{
 "cells": [
  {
   "cell_type": "markdown",
   "id": "1e305aa4",
   "metadata": {},
   "source": [
    "# Examples of machine learning implementations"
   ]
  },
  {
   "cell_type": "code",
   "execution_count": null,
   "id": "44d3af25",
   "metadata": {},
   "outputs": [],
   "source": [
    "from setup_notebook import set_path_to_root\n",
    "\n",
    "set_path_to_root()"
   ]
  },
  {
   "cell_type": "code",
   "execution_count": null,
   "id": "3155205d",
   "metadata": {},
   "outputs": [],
   "source": [
    "from typing import Tuple\n",
    "\n",
    "import matplotlib.pyplot as plt\n",
    "import numpy as np\n",
    "import seaborn as sns\n",
    "from sklearn import datasets\n",
    "\n",
    "from learners.linear_regression import LinearRegression"
   ]
  },
  {
   "cell_type": "markdown",
   "id": "975fb4d8",
   "metadata": {},
   "source": [
    "### Linear Regression\n",
    "\n",
    "Load example data from sklearn"
   ]
  },
  {
   "cell_type": "code",
   "execution_count": null,
   "id": "6c0e7ca0",
   "metadata": {},
   "outputs": [],
   "source": [
    "def load_univariate_regression_data() -> Tuple[np.ndarray, np.ndarray]:\n",
    "    reg_params = {\n",
    "        \"n_features\": 1,\n",
    "        \"n_samples\": 1000,\n",
    "        \"random_state\": 42,\n",
    "        \"noise\": 10\n",
    "    }\n",
    "    X, y = datasets.make_regression(**reg_params)\n",
    "    return X, y\n",
    "\n",
    "def load_multivariate_regression_data() -> Tuple[np.ndarray, np.ndarray]:\n",
    "    return datasets.load_diabetes(return_X_y=True)\n",
    "\n",
    "X_reg_uni, y_reg_uni = load_univariate_regression_data()\n",
    "X_reg_multi, y_reg_multi = load_multivariate_regression_data()"
   ]
  },
  {
   "cell_type": "markdown",
   "id": "1d4a88c9",
   "metadata": {},
   "source": [
    "#### Univariate"
   ]
  },
  {
   "cell_type": "code",
   "execution_count": null,
   "id": "ee08418f",
   "metadata": {},
   "outputs": [],
   "source": [
    "ax = sns.scatterplot(x=X_reg_uni.flatten(), y=y_reg_uni)\n",
    "ax.set_title(\"Raw data\")\n",
    "plt.show()"
   ]
  },
  {
   "cell_type": "markdown",
   "id": "d3a3152e",
   "metadata": {},
   "source": [
    "Fit univariate model"
   ]
  },
  {
   "cell_type": "code",
   "execution_count": null,
   "id": "b90047af",
   "metadata": {},
   "outputs": [],
   "source": [
    "lr_uni = LinearRegression()\n",
    "lr_uni.learn(X_reg_uni, y_reg_uni)\n",
    "y_hat = lr_uni.predict(X_reg_uni)"
   ]
  },
  {
   "cell_type": "markdown",
   "id": "523c1244",
   "metadata": {},
   "source": [
    "Univariate model cost "
   ]
  },
  {
   "cell_type": "code",
   "execution_count": null,
   "id": "cacdad03",
   "metadata": {},
   "outputs": [],
   "source": [
    "lr_uni_costs = lr_uni.cost_history\n",
    "sns.lineplot(x=list(range(len(lr_uni_costs))), y=lr_uni_costs)"
   ]
  },
  {
   "cell_type": "code",
   "execution_count": null,
   "id": "0ea97320",
   "metadata": {},
   "outputs": [],
   "source": [
    "y_hat_history = []\n",
    "\n",
    "for theta in lr_uni.theta_history[:1000]:\n",
    "    y_hat_history.append(\n",
    "        lr_uni.predict_adhoc(X_reg_uni, theta, False)\n",
    "    )\n",
    "\n",
    "lr_uni_examples = [0, 30, 60, 300]\n",
    "\n",
    "fig, axs = plt.subplots(2, 2, figsize=(20, 10))\n",
    "\n",
    "for i, ax in enumerate(axs.flatten()):\n",
    "    iter_ = lr_uni_examples[i]\n",
    "    sns.scatterplot(x=X_reg_uni.flatten(), y=y_reg_uni, alpha=0.3, ax=ax)\n",
    "    sns.lineplot(x=X_reg_uni.flatten(), y=y_hat_history[iter_], color=\"red\", ax=ax)\n",
    "    ax.set_title(f\"Iteration {iter_}\")\n",
    "plt.show()"
   ]
  },
  {
   "cell_type": "markdown",
   "id": "656d5a59",
   "metadata": {},
   "source": [
    "Multi-variate regression example"
   ]
  },
  {
   "cell_type": "code",
   "execution_count": null,
   "id": "326c3181",
   "metadata": {},
   "outputs": [],
   "source": [
    "lr_multi = LinearRegression()\n",
    "lr_multi.learn(X_reg_multi, y_reg_multi)\n",
    "y_hat = lr_multi.predict(X_reg_multi)\n",
    "\n",
    "ax = sns.scatterplot(x=y_reg_multi, y=y_hat)\n",
    "ax.set_xlabel(\"predicted\")\n",
    "ax.set_ylabel(\"actual\")\n",
    "plt.show()"
   ]
  },
  {
   "cell_type": "markdown",
   "id": "d2d3c9ee",
   "metadata": {},
   "source": [
    "### Logistic regression"
   ]
  },
  {
   "cell_type": "code",
   "execution_count": null,
   "id": "4f1ea015",
   "metadata": {},
   "outputs": [],
   "source": [
    "from learners.logistic_regression import LogisticRegression\n",
    "\n",
    "def load_univariate_classification_data() -> Tuple[np.ndarray, np.ndarray]:\n",
    "    reg_params = {\n",
    "        \"n_features\": 2,\n",
    "        \"n_samples\": 1000,\n",
    "        \"n_informative\": 2,\n",
    "        \"n_redundant\": 0,\n",
    "        \"n_classes\": 2,\n",
    "        \"random_state\": 44\n",
    "    }\n",
    "    X, y = datasets.make_classification(**reg_params)\n",
    "    return X, y\n",
    "\n",
    "X_class_uni, y_class_uni = load_univariate_classification_data()\n",
    "\n",
    "ax = sns.scatterplot(x=X_class_uni[:, 0], y=X_class_uni[:, 1], c=y_class_uni)\n",
    "ax.set_title(\"Raw data\")\n",
    "plt.show()"
   ]
  },
  {
   "cell_type": "markdown",
   "id": "ded17238",
   "metadata": {},
   "source": [
    "**Logistic regression needs a much higher alpha value for gradient descent to converge**"
   ]
  },
  {
   "cell_type": "code",
   "execution_count": null,
   "id": "0cac6157",
   "metadata": {},
   "outputs": [],
   "source": [
    "logreg_uni = LogisticRegression(alpha=50, n_iter=1500)\n",
    "logreg_uni.learn(X_class_uni, y_class_uni)\n",
    "y_hat = logreg_uni.predict(X_class_uni)\n",
    "y_hat_bin = np.where(y_hat > 0.5, 1, 0)\n",
    "\n",
    "logreg_uni_costs = logreg_uni.cost_history\n",
    "sns.lineplot(x=list(range(len(logreg_uni_costs))), y=logreg_uni_costs)"
   ]
  },
  {
   "cell_type": "code",
   "execution_count": null,
   "id": "dec83987",
   "metadata": {
    "scrolled": true
   },
   "outputs": [],
   "source": [
    "def plot_decision_boundary():\n",
    "    \"\"\" Code from here:\n",
    "        - https://stackoverflow.com/questions/28256058/plotting-decision-boundary-of-logistic-regression\n",
    "    \"\"\"\n",
    "    xx, yy = np.mgrid[\n",
    "    X_class_uni[:, 0].min():X_class_uni[:, 0].max():.01, \n",
    "    X_class_uni[:, 1].min():X_class_uni[:, 1].max():.01]\n",
    "    grid = np.c_[xx.ravel(), yy.ravel()]\n",
    "    probs = logreg_uni.predict(grid).reshape(xx.shape)\n",
    "\n",
    "    f, ax = plt.subplots(figsize=(8, 6))\n",
    "    contour = ax.contourf(xx, yy, probs, 25, cmap=\"RdBu\",\n",
    "                          vmin=0, vmax=1)\n",
    "    ax_c = f.colorbar(contour)\n",
    "    ax_c.set_label(\"$P(y = 1)$\")\n",
    "    ax_c.set_ticks([0, .25, .5, .75, 1])\n",
    "\n",
    "    ax.scatter(X_class_uni[:, 0], X_class_uni[:, 1], c=y_class_uni, s=50,\n",
    "               cmap=\"RdBu\", vmin=-.2, vmax=1.2,\n",
    "               edgecolor=\"white\", linewidth=1)\n",
    "\n",
    "plot_decision_boundary()"
   ]
  },
  {
   "cell_type": "markdown",
   "id": "68a7d9b4",
   "metadata": {},
   "source": [
    "### K-means clustering"
   ]
  },
  {
   "cell_type": "code",
   "execution_count": null,
   "id": "075574f5",
   "metadata": {},
   "outputs": [],
   "source": [
    "from learners.k_means import KMeansClustering\n",
    "\n",
    "def load_clustering_data():\n",
    "    X, _ = datasets.make_blobs(n_samples=300, random_state=999, centers=3)\n",
    "    return np.abs(X)\n",
    "\n",
    "from sklearn.preprocessing import MinMaxScaler\n",
    "X = MinMaxScaler().fit_transform(load_clustering_data())\n",
    "\n",
    "kmeans = KMeansClustering(K=3)\n",
    "kmeans.learn(X)\n",
    "\n",
    "plt.scatter(X[:, 0], X[:, 1], alpha=0.5, c=kmeans.cluster)"
   ]
  }
 ],
 "metadata": {
  "kernelspec": {
   "display_name": "Python 3 (ipykernel)",
   "language": "python",
   "name": "python3"
  },
  "language_info": {
   "codemirror_mode": {
    "name": "ipython",
    "version": 3
   },
   "file_extension": ".py",
   "mimetype": "text/x-python",
   "name": "python",
   "nbconvert_exporter": "python",
   "pygments_lexer": "ipython3",
   "version": "3.8.2"
  }
 },
 "nbformat": 4,
 "nbformat_minor": 5
}
